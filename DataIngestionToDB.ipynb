{
  "nbformat": 4,
  "nbformat_minor": 0,
  "metadata": {
    "colab": {
      "provenance": []
    },
    "kernelspec": {
      "name": "python3",
      "display_name": "Python 3"
    },
    "language_info": {
      "name": "python"
    }
  },
  "cells": [
    {
      "cell_type": "code",
      "execution_count": null,
      "metadata": {
        "colab": {
          "base_uri": "https://localhost:8080/"
        },
        "id": "u9pRQuU2jj1s",
        "outputId": "702c0975-da2c-4505-97f9-8167f99ef70f"
      },
      "outputs": [
        {
          "output_type": "stream",
          "name": "stdout",
          "text": [
            "hello\n"
          ]
        }
      ],
      "source": [
        "print(\"hello\")"
      ]
    },
    {
      "cell_type": "code",
      "source": [
        "!pip install mysql-connector-python"
      ],
      "metadata": {
        "colab": {
          "base_uri": "https://localhost:8080/"
        },
        "id": "fRvWXNwfnHIG",
        "outputId": "e17c389e-d6c1-4398-fe18-e220c604e3f7"
      },
      "execution_count": null,
      "outputs": [
        {
          "output_type": "stream",
          "name": "stdout",
          "text": [
            "Collecting mysql-connector-python\n",
            "  Downloading mysql_connector_python-9.1.0-cp310-cp310-manylinux_2_28_x86_64.whl.metadata (6.0 kB)\n",
            "Downloading mysql_connector_python-9.1.0-cp310-cp310-manylinux_2_28_x86_64.whl (34.4 MB)\n",
            "\u001b[2K   \u001b[90m━━━━━━━━━━━━━━━━━━━━━━━━━━━━━━━━━━━━━━━━\u001b[0m \u001b[32m34.4/34.4 MB\u001b[0m \u001b[31m48.9 MB/s\u001b[0m eta \u001b[36m0:00:00\u001b[0m\n",
            "\u001b[?25hInstalling collected packages: mysql-connector-python\n",
            "Successfully installed mysql-connector-python-9.1.0\n"
          ]
        }
      ]
    },
    {
      "cell_type": "code",
      "source": [
        "import mysql.connector\n",
        "from mysql.connector import Error\n",
        "\n",
        "hostname = \"6bnvj.h.filess.io\"\n",
        "database = \"olistproject_slopelack\"\n",
        "port = \"3307\"\n",
        "username = \"olistproject_slopelack\"\n",
        "password = \"697e5b0bf570cd87d28f4f9e093edba086909afe\"\n",
        "\n",
        "try:\n",
        "    connection = mysql.connector.connect(host=hostname, database=database, user=username, password=password, port=port)\n",
        "    if connection.is_connected():\n",
        "        db_Info = connection.get_server_info()\n",
        "        print(\"Connected to MySQL Server version \", db_Info)\n",
        "        cursor = connection.cursor()\n",
        "        cursor.execute(\"select database();\")\n",
        "        record = cursor.fetchone()\n",
        "        print(\"You're connected to database: \", record)\n",
        "\n",
        "except Error as e:\n",
        "    print(\"Error while connecting to MySQL\", e)\n",
        "finally:\n",
        "    if connection.is_connected():\n",
        "        cursor.close()\n",
        "        connection.close()\n",
        "        print(\"MySQL connection is closed\")\n",
        "\n"
      ],
      "metadata": {
        "colab": {
          "base_uri": "https://localhost:8080/"
        },
        "id": "qANXDIWLkD3I",
        "outputId": "b3fc967c-f88b-4246-ec70-f821bc41e371"
      },
      "execution_count": null,
      "outputs": [
        {
          "output_type": "stream",
          "name": "stdout",
          "text": [
            "Connected to MySQL Server version  8.0.36-28\n",
            "You're connected to database:  ('olistproject_slopelack',)\n",
            "MySQL connection is closed\n"
          ]
        }
      ]
    },
    {
      "cell_type": "code",
      "source": [
        "import pandas as pd\n",
        "\n",
        "order_payments = pd.read_csv(\"olist_order_payments_dataset.csv\")\n",
        "order_payments.head()\n",
        "order_payments.shape"
      ],
      "metadata": {
        "colab": {
          "base_uri": "https://localhost:8080/"
        },
        "id": "OlLaalNhnTAg",
        "outputId": "7d572d27-b4e7-410e-992b-59e8bdfb11f7"
      },
      "execution_count": null,
      "outputs": [
        {
          "output_type": "execute_result",
          "data": {
            "text/plain": [
              "(103886, 5)"
            ]
          },
          "metadata": {},
          "execution_count": 6
        }
      ]
    },
    {
      "cell_type": "code",
      "source": [],
      "metadata": {
        "id": "d3pU9TULnhn1"
      },
      "execution_count": null,
      "outputs": []
    },
    {
      "cell_type": "code",
      "source": [
        "import pandas as pd\n",
        "import mysql.connector\n",
        "from mysql.connector import Error\n",
        "\n",
        "# Connection details\n",
        "hostname = \"6bnvj.h.filess.io\"\n",
        "database = \"olistproject_slopelack\"\n",
        "port = \"3307\"\n",
        "username = \"olistproject_slopelack\"\n",
        "password = \"697e5b0bf570cd87d28f4f9e093edba086909afe\"\n",
        "\n",
        "# CSV file path\n",
        "csv_file_path = \"olist_order_payments_dataset.csv\"\n",
        "\n",
        "# Table name where the data will be uploaded\n",
        "table_name = \"olist_order_payments\"\n",
        "\n",
        "try:\n",
        "    # Step 1: Establish a connection to MySQL server\n",
        "    connection = mysql.connector.connect(\n",
        "        host=hostname,\n",
        "        database=database,\n",
        "        user=username,\n",
        "        password=password,\n",
        "        port=port\n",
        "    )\n",
        "    if connection.is_connected():\n",
        "        print(\"Connected to MySQL Server successfully!\")\n",
        "\n",
        "        # Step 2: Create a cursor to execute SQL queries\n",
        "        cursor = connection.cursor()\n",
        "\n",
        "        # Step 3: Drop table if it already exists (for clean insertion)\n",
        "        cursor.execute(f\"DROP TABLE IF EXISTS {table_name};\")\n",
        "        print(f\"Table `{table_name}` dropped if it existed.\")\n",
        "\n",
        "        # Step 4: Create a table structure to match CSV file\n",
        "        create_table_query = f\"\"\"\n",
        "        CREATE TABLE {table_name} (\n",
        "            order_id VARCHAR(50),\n",
        "            payment_sequential INT,\n",
        "            payment_type VARCHAR(20),\n",
        "            payment_installments INT,\n",
        "            payment_value FLOAT\n",
        "        );\n",
        "        \"\"\"\n",
        "        cursor.execute(create_table_query)\n",
        "        print(f\"Table `{table_name}` created successfully!\")\n",
        "\n",
        "        # Step 5: Load the CSV data into pandas DataFrame\n",
        "        data = pd.read_csv(csv_file_path)\n",
        "        print(\"CSV data loaded into pandas DataFrame.\")\n",
        "\n",
        "        # Step 6: Insert data in batches of 500 records\n",
        "        batch_size = 500  # Define the batch size\n",
        "        total_records = len(data)  # Get total records in the DataFrame\n",
        "\n",
        "        print(f\"Starting data insertion into `{table_name}` in batches of {batch_size} records.\")\n",
        "        for start in range(0, total_records, batch_size):\n",
        "            end = start + batch_size\n",
        "            batch = data.iloc[start:end]  # Get the current batch of records\n",
        "\n",
        "            # Convert batch to list of tuples for MySQL insertion\n",
        "            batch_records = [\n",
        "                tuple(row) for row in batch.itertuples(index=False, name=None)\n",
        "            ]\n",
        "\n",
        "            # Prepare the INSERT query\n",
        "            insert_query = f\"\"\"\n",
        "            INSERT INTO {table_name}\n",
        "            (order_id, payment_sequential, payment_type, payment_installments, payment_value)\n",
        "            VALUES (%s, %s, %s, %s, %s);\n",
        "            \"\"\"\n",
        "\n",
        "            # Execute the insertion query for the batch\n",
        "            cursor.executemany(insert_query, batch_records)\n",
        "            connection.commit()  # Commit after each batch\n",
        "            print(f\"Inserted records {start + 1} to {min(end, total_records)} successfully.\")\n",
        "\n",
        "        print(f\"All {total_records} records inserted successfully into `{table_name}`.\")\n",
        "\n",
        "except Error as e:\n",
        "    # Step 7: Handle any errors\n",
        "    print(\"Error while connecting to MySQL or inserting data:\", e)\n",
        "\n",
        "finally:\n",
        "    # Step 8: Close the cursor and connection\n",
        "    if connection.is_connected():\n",
        "        cursor.close()\n",
        "        connection.close()\n",
        "        print(\"MySQL connection is closed.\")"
      ],
      "metadata": {
        "colab": {
          "base_uri": "https://localhost:8080/"
        },
        "id": "AVWvp6Jlnhy0",
        "outputId": "d41d689e-8d35-4ff0-9b8e-d09e6a78b79b"
      },
      "execution_count": null,
      "outputs": [
        {
          "output_type": "stream",
          "name": "stdout",
          "text": [
            "Connected to MySQL Server successfully!\n",
            "Table `olist_order_payments` dropped if it existed.\n",
            "Table `olist_order_payments` created successfully!\n",
            "CSV data loaded into pandas DataFrame.\n",
            "Starting data insertion into `olist_order_payments` in batches of 500 records.\n",
            "Inserted records 1 to 500 successfully.\n",
            "Inserted records 501 to 1000 successfully.\n",
            "Inserted records 1001 to 1500 successfully.\n",
            "Inserted records 1501 to 2000 successfully.\n",
            "Inserted records 2001 to 2500 successfully.\n",
            "Inserted records 2501 to 3000 successfully.\n",
            "Inserted records 3001 to 3500 successfully.\n",
            "Inserted records 3501 to 4000 successfully.\n",
            "Inserted records 4001 to 4500 successfully.\n",
            "Inserted records 4501 to 5000 successfully.\n",
            "Inserted records 5001 to 5500 successfully.\n",
            "Inserted records 5501 to 6000 successfully.\n",
            "Inserted records 6001 to 6500 successfully.\n",
            "Inserted records 6501 to 7000 successfully.\n",
            "Inserted records 7001 to 7500 successfully.\n",
            "Inserted records 7501 to 8000 successfully.\n",
            "Inserted records 8001 to 8500 successfully.\n",
            "Inserted records 8501 to 9000 successfully.\n",
            "Inserted records 9001 to 9500 successfully.\n",
            "Inserted records 9501 to 10000 successfully.\n",
            "Inserted records 10001 to 10500 successfully.\n",
            "Inserted records 10501 to 11000 successfully.\n",
            "Inserted records 11001 to 11500 successfully.\n",
            "Inserted records 11501 to 12000 successfully.\n",
            "Inserted records 12001 to 12500 successfully.\n",
            "Inserted records 12501 to 13000 successfully.\n",
            "Inserted records 13001 to 13500 successfully.\n",
            "Inserted records 13501 to 14000 successfully.\n",
            "Inserted records 14001 to 14500 successfully.\n",
            "Inserted records 14501 to 15000 successfully.\n",
            "Inserted records 15001 to 15500 successfully.\n",
            "Inserted records 15501 to 16000 successfully.\n",
            "Inserted records 16001 to 16500 successfully.\n",
            "Inserted records 16501 to 17000 successfully.\n",
            "Inserted records 17001 to 17500 successfully.\n",
            "Inserted records 17501 to 18000 successfully.\n",
            "Inserted records 18001 to 18500 successfully.\n",
            "Inserted records 18501 to 19000 successfully.\n",
            "Inserted records 19001 to 19500 successfully.\n",
            "Inserted records 19501 to 20000 successfully.\n",
            "Inserted records 20001 to 20500 successfully.\n",
            "Inserted records 20501 to 21000 successfully.\n",
            "Inserted records 21001 to 21500 successfully.\n",
            "Inserted records 21501 to 22000 successfully.\n",
            "Inserted records 22001 to 22500 successfully.\n",
            "Inserted records 22501 to 23000 successfully.\n",
            "Inserted records 23001 to 23500 successfully.\n",
            "Inserted records 23501 to 24000 successfully.\n",
            "Inserted records 24001 to 24500 successfully.\n",
            "Inserted records 24501 to 25000 successfully.\n",
            "Inserted records 25001 to 25500 successfully.\n",
            "Inserted records 25501 to 26000 successfully.\n",
            "Inserted records 26001 to 26500 successfully.\n",
            "Inserted records 26501 to 27000 successfully.\n",
            "Inserted records 27001 to 27500 successfully.\n",
            "Inserted records 27501 to 28000 successfully.\n",
            "Inserted records 28001 to 28500 successfully.\n",
            "Inserted records 28501 to 29000 successfully.\n",
            "Inserted records 29001 to 29500 successfully.\n",
            "Inserted records 29501 to 30000 successfully.\n",
            "Inserted records 30001 to 30500 successfully.\n",
            "Inserted records 30501 to 31000 successfully.\n",
            "Inserted records 31001 to 31500 successfully.\n",
            "Inserted records 31501 to 32000 successfully.\n",
            "Inserted records 32001 to 32500 successfully.\n",
            "Inserted records 32501 to 33000 successfully.\n",
            "Inserted records 33001 to 33500 successfully.\n",
            "Inserted records 33501 to 34000 successfully.\n",
            "Inserted records 34001 to 34500 successfully.\n",
            "Inserted records 34501 to 35000 successfully.\n",
            "Inserted records 35001 to 35500 successfully.\n",
            "Inserted records 35501 to 36000 successfully.\n",
            "Inserted records 36001 to 36500 successfully.\n",
            "Inserted records 36501 to 37000 successfully.\n",
            "Inserted records 37001 to 37500 successfully.\n",
            "Inserted records 37501 to 38000 successfully.\n",
            "Inserted records 38001 to 38500 successfully.\n",
            "Inserted records 38501 to 39000 successfully.\n",
            "Inserted records 39001 to 39500 successfully.\n",
            "Inserted records 39501 to 40000 successfully.\n",
            "Inserted records 40001 to 40500 successfully.\n",
            "Inserted records 40501 to 41000 successfully.\n",
            "Inserted records 41001 to 41500 successfully.\n",
            "Inserted records 41501 to 42000 successfully.\n",
            "Inserted records 42001 to 42500 successfully.\n",
            "Inserted records 42501 to 43000 successfully.\n",
            "Inserted records 43001 to 43500 successfully.\n",
            "Inserted records 43501 to 44000 successfully.\n",
            "Inserted records 44001 to 44500 successfully.\n",
            "Inserted records 44501 to 45000 successfully.\n",
            "Inserted records 45001 to 45500 successfully.\n",
            "Inserted records 45501 to 46000 successfully.\n",
            "Inserted records 46001 to 46500 successfully.\n",
            "Inserted records 46501 to 47000 successfully.\n",
            "Inserted records 47001 to 47500 successfully.\n",
            "Inserted records 47501 to 48000 successfully.\n",
            "Inserted records 48001 to 48500 successfully.\n",
            "Inserted records 48501 to 49000 successfully.\n",
            "Inserted records 49001 to 49500 successfully.\n",
            "Inserted records 49501 to 50000 successfully.\n",
            "Inserted records 50001 to 50500 successfully.\n",
            "Inserted records 50501 to 51000 successfully.\n",
            "Inserted records 51001 to 51500 successfully.\n",
            "Inserted records 51501 to 52000 successfully.\n",
            "Inserted records 52001 to 52500 successfully.\n",
            "Inserted records 52501 to 53000 successfully.\n",
            "Inserted records 53001 to 53500 successfully.\n",
            "Inserted records 53501 to 54000 successfully.\n",
            "Inserted records 54001 to 54500 successfully.\n",
            "Inserted records 54501 to 55000 successfully.\n",
            "Inserted records 55001 to 55500 successfully.\n",
            "Inserted records 55501 to 56000 successfully.\n",
            "Inserted records 56001 to 56500 successfully.\n",
            "Inserted records 56501 to 57000 successfully.\n",
            "Inserted records 57001 to 57500 successfully.\n",
            "Inserted records 57501 to 58000 successfully.\n",
            "Inserted records 58001 to 58500 successfully.\n",
            "Inserted records 58501 to 59000 successfully.\n",
            "Inserted records 59001 to 59500 successfully.\n",
            "Inserted records 59501 to 60000 successfully.\n",
            "Inserted records 60001 to 60500 successfully.\n",
            "Inserted records 60501 to 61000 successfully.\n",
            "Inserted records 61001 to 61500 successfully.\n",
            "Inserted records 61501 to 62000 successfully.\n",
            "Inserted records 62001 to 62500 successfully.\n",
            "Inserted records 62501 to 63000 successfully.\n",
            "Inserted records 63001 to 63500 successfully.\n",
            "Inserted records 63501 to 64000 successfully.\n",
            "Inserted records 64001 to 64500 successfully.\n",
            "Inserted records 64501 to 65000 successfully.\n",
            "Inserted records 65001 to 65500 successfully.\n",
            "Inserted records 65501 to 66000 successfully.\n",
            "Inserted records 66001 to 66500 successfully.\n",
            "Inserted records 66501 to 67000 successfully.\n",
            "Inserted records 67001 to 67500 successfully.\n",
            "Inserted records 67501 to 68000 successfully.\n",
            "Inserted records 68001 to 68500 successfully.\n",
            "Inserted records 68501 to 69000 successfully.\n",
            "Inserted records 69001 to 69500 successfully.\n",
            "Inserted records 69501 to 70000 successfully.\n",
            "Inserted records 70001 to 70500 successfully.\n",
            "Inserted records 70501 to 71000 successfully.\n",
            "Inserted records 71001 to 71500 successfully.\n",
            "Inserted records 71501 to 72000 successfully.\n",
            "Inserted records 72001 to 72500 successfully.\n",
            "Inserted records 72501 to 73000 successfully.\n",
            "Inserted records 73001 to 73500 successfully.\n",
            "Inserted records 73501 to 74000 successfully.\n",
            "Inserted records 74001 to 74500 successfully.\n",
            "Inserted records 74501 to 75000 successfully.\n",
            "Inserted records 75001 to 75500 successfully.\n",
            "Inserted records 75501 to 76000 successfully.\n",
            "Inserted records 76001 to 76500 successfully.\n",
            "Inserted records 76501 to 77000 successfully.\n",
            "Inserted records 77001 to 77500 successfully.\n",
            "Inserted records 77501 to 78000 successfully.\n",
            "Inserted records 78001 to 78500 successfully.\n",
            "Inserted records 78501 to 79000 successfully.\n",
            "Inserted records 79001 to 79500 successfully.\n",
            "Inserted records 79501 to 80000 successfully.\n",
            "Inserted records 80001 to 80500 successfully.\n",
            "Inserted records 80501 to 81000 successfully.\n",
            "Inserted records 81001 to 81500 successfully.\n",
            "Inserted records 81501 to 82000 successfully.\n",
            "Inserted records 82001 to 82500 successfully.\n",
            "Inserted records 82501 to 83000 successfully.\n",
            "Inserted records 83001 to 83500 successfully.\n",
            "Inserted records 83501 to 84000 successfully.\n",
            "Inserted records 84001 to 84500 successfully.\n",
            "Inserted records 84501 to 85000 successfully.\n",
            "Inserted records 85001 to 85500 successfully.\n",
            "Inserted records 85501 to 86000 successfully.\n",
            "Inserted records 86001 to 86500 successfully.\n",
            "Inserted records 86501 to 87000 successfully.\n",
            "Inserted records 87001 to 87500 successfully.\n",
            "Inserted records 87501 to 88000 successfully.\n",
            "Inserted records 88001 to 88500 successfully.\n",
            "Inserted records 88501 to 89000 successfully.\n",
            "Inserted records 89001 to 89500 successfully.\n",
            "Inserted records 89501 to 90000 successfully.\n",
            "Inserted records 90001 to 90500 successfully.\n",
            "Inserted records 90501 to 91000 successfully.\n",
            "Inserted records 91001 to 91500 successfully.\n",
            "Inserted records 91501 to 92000 successfully.\n",
            "Inserted records 92001 to 92500 successfully.\n",
            "Inserted records 92501 to 93000 successfully.\n",
            "Inserted records 93001 to 93500 successfully.\n",
            "Inserted records 93501 to 94000 successfully.\n",
            "Inserted records 94001 to 94500 successfully.\n",
            "Inserted records 94501 to 95000 successfully.\n",
            "Inserted records 95001 to 95500 successfully.\n",
            "Inserted records 95501 to 96000 successfully.\n",
            "Inserted records 96001 to 96500 successfully.\n",
            "Inserted records 96501 to 97000 successfully.\n",
            "Inserted records 97001 to 97500 successfully.\n",
            "Inserted records 97501 to 98000 successfully.\n",
            "Inserted records 98001 to 98500 successfully.\n",
            "Inserted records 98501 to 99000 successfully.\n",
            "Inserted records 99001 to 99500 successfully.\n",
            "Inserted records 99501 to 100000 successfully.\n",
            "Inserted records 100001 to 100500 successfully.\n",
            "Inserted records 100501 to 101000 successfully.\n",
            "Inserted records 101001 to 101500 successfully.\n",
            "Inserted records 101501 to 102000 successfully.\n",
            "Inserted records 102001 to 102500 successfully.\n",
            "Inserted records 102501 to 103000 successfully.\n",
            "Inserted records 103001 to 103500 successfully.\n",
            "Inserted records 103501 to 103886 successfully.\n",
            "All 103886 records inserted successfully into `olist_order_payments`.\n",
            "MySQL connection is closed.\n"
          ]
        }
      ]
    },
    {
      "cell_type": "code",
      "source": [
        "!pip install pymongo"
      ],
      "metadata": {
        "colab": {
          "base_uri": "https://localhost:8080/"
        },
        "id": "5kgOkEJKvGom",
        "outputId": "1325c543-5573-405b-8b9a-14cd2a37e89e"
      },
      "execution_count": null,
      "outputs": [
        {
          "output_type": "stream",
          "name": "stdout",
          "text": [
            "Collecting pymongo\n",
            "  Downloading pymongo-4.10.1-cp310-cp310-manylinux_2_17_x86_64.manylinux2014_x86_64.whl.metadata (22 kB)\n",
            "Collecting dnspython<3.0.0,>=1.16.0 (from pymongo)\n",
            "  Downloading dnspython-2.7.0-py3-none-any.whl.metadata (5.8 kB)\n",
            "Downloading pymongo-4.10.1-cp310-cp310-manylinux_2_17_x86_64.manylinux2014_x86_64.whl (1.4 MB)\n",
            "\u001b[2K   \u001b[90m━━━━━━━━━━━━━━━━━━━━━━━━━━━━━━━━━━━━━━━━\u001b[0m \u001b[32m1.4/1.4 MB\u001b[0m \u001b[31m18.1 MB/s\u001b[0m eta \u001b[36m0:00:00\u001b[0m\n",
            "\u001b[?25hDownloading dnspython-2.7.0-py3-none-any.whl (313 kB)\n",
            "\u001b[2K   \u001b[90m━━━━━━━━━━━━━━━━━━━━━━━━━━━━━━━━━━━━━━━━\u001b[0m \u001b[32m313.6/313.6 kB\u001b[0m \u001b[31m20.2 MB/s\u001b[0m eta \u001b[36m0:00:00\u001b[0m\n",
            "\u001b[?25hInstalling collected packages: dnspython, pymongo\n",
            "Successfully installed dnspython-2.7.0 pymongo-4.10.1\n"
          ]
        }
      ]
    },
    {
      "cell_type": "code",
      "source": [
        "# importing module\n",
        "from pymongo import MongoClient\n",
        "\n",
        "hostname = \"p8io3.h.filess.io\"\n",
        "database = \"olistDataNoSQL_becomingit\"\n",
        "port = \"27018\"\n",
        "username = \"olistDataNoSQL_becomingit\"\n",
        "password = \"dcea9f94c68907e3b1f73fcbba26645ef83470e3\"\n",
        "\n",
        "uri = \"mongodb://\" + username + \":\" + password + \"@\" + hostname + \":\" + port + \"/\" + database\n",
        "\n",
        "# Connect with the portnumber and host\n",
        "client = MongoClient(uri)\n",
        "\n",
        "# Access database\n",
        "mydatabase = client[database]\n"
      ],
      "metadata": {
        "id": "nqz1ESFivGy6"
      },
      "execution_count": null,
      "outputs": []
    },
    {
      "cell_type": "code",
      "source": [
        "# prompt: read the product_category csv and create a collection and upload it to above mongoDB\n",
        "\n",
        "import pandas as pd\n",
        "from pymongo import MongoClient\n",
        "\n",
        "# Load the product_category CSV file into a pandas DataFrame\n",
        "try:\n",
        "  product_category_df = pd.read_csv(\"product_category_name_translation.csv\")\n",
        "except FileNotFoundError:\n",
        "  print(\"Error: 'product_category_name_translation.csv' not found.\")\n",
        "  exit() # Exit the script if the file is not found\n",
        "\n",
        "\n",
        "# MongoDB connection details (assuming these are already defined in your script)\n",
        "hostname = \"p8io3.h.filess.io\"\n",
        "database = \"olistDataNoSQL_becomingit\"\n",
        "port = \"27018\"\n",
        "username = \"olistDataNoSQL_becomingit\"\n",
        "password = \"dcea9f94c68907e3b1f73fcbba26645ef83470e3\"\n",
        "\n",
        "uri = \"mongodb://\" + username + \":\" + password + \"@\" + hostname + \":\" + port + \"/\" + database\n",
        "\n",
        "try:\n",
        "    # Establish a connection to MongoDB\n",
        "    client = MongoClient(uri)\n",
        "    db = client[database]\n",
        "\n",
        "    # Select the collection (or create if it doesn't exist)\n",
        "    collection = db[\"product_categories\"]  # Choose a suitable name for your collection\n",
        "\n",
        "    # Convert the DataFrame to a list of dictionaries for insertion into MongoDB\n",
        "    data_to_insert = product_category_df.to_dict(orient=\"records\")\n",
        "\n",
        "    # Insert the data into the collection\n",
        "    collection.insert_many(data_to_insert)\n",
        "\n",
        "    print(\"Data uploaded to MongoDB successfully!\")\n",
        "\n",
        "except Exception as e:\n",
        "    print(f\"An error occurred: {e}\")\n",
        "\n",
        "finally:\n",
        "    # Close the MongoDB connection\n",
        "    if client:\n",
        "        client.close()"
      ],
      "metadata": {
        "colab": {
          "base_uri": "https://localhost:8080/"
        },
        "id": "TsoXGweUvguq",
        "outputId": "102cca03-da20-4ae2-95c3-857fc3e3caf2"
      },
      "execution_count": null,
      "outputs": [
        {
          "output_type": "stream",
          "name": "stdout",
          "text": [
            "Data uploaded to MongoDB successfully!\n"
          ]
        }
      ]
    }
  ]
}